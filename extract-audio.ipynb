{
 "cells": [
  {
   "cell_type": "code",
   "execution_count": 44,
   "metadata": {},
   "outputs": [],
   "source": [
    "from moviepy.video.io.VideoFileClip import VideoFileClip"
   ]
  },
  {
   "cell_type": "code",
   "execution_count": null,
   "metadata": {},
   "outputs": [],
   "source": [
    "# Load the video file\n",
    "video = VideoFileClip(\"input/PXL_20250222_123802359.mp4\")\n",
    "\n",
    "# Extract the audio\n",
    "audio = video.audio\n",
    "\n",
    "# Write the audio to a file\n",
    "audio.write_audiofile(\"output/output_audio.mp3\")"
   ]
  },
  {
   "cell_type": "code",
   "execution_count": null,
   "metadata": {},
   "outputs": [],
   "source": [
    "import numpy as np\n",
    "from pydub import AudioSegment\n",
    "\n",
    "# Load the audio file using pydub\n",
    "audio_segment = AudioSegment.from_mp3(\"output/output_audio.mp3\")\n",
    "\n",
    "# Convert audio to numpy array\n",
    "samples = np.array(audio_segment.get_array_of_samples())\n",
    "\n",
    "# Calculate the volume in decibels\n",
    "def calculate_db(samples):\n",
    "    return 20 * np.log10(np.abs(samples) / np.max(np.abs(samples)))\n",
    "\n",
    "peak_threshold = -20  # Adjust this threshold as needed\n",
    "\n",
    "# Calculate decibel values\n",
    "db_values = calculate_db(samples)\n",
    "sample_rate = audio_segment.frame_rate\n",
    "for i, db in enumerate(db_values):\n",
    "    if db > peak_threshold:\n",
    "        timestamp = i / sample_rate\n",
    "        print(f\"Peak at sample {i} with {db:.2f} dB\")\n",
    "\n",
    "# Identify peaks\n",
    "peaks = np.where(db_values > peak_threshold)[0]\n",
    "\n",
    "# Calculate timestamps for peaks\n",
    "peak_times = peaks / sample_rate\n",
    "\n",
    "print(f\"Number of peaks: {len(peaks)}\")\n",
    "print(f\"Peak positions (in samples): {peaks}\")\n",
    "print(f\"Peak times (in seconds): {peak_times}\")\n"
   ]
  }
 ],
 "metadata": {
  "kernelspec": {
   "display_name": "Python 3 (ipykernel)",
   "language": "python",
   "name": "python3"
  },
  "language_info": {
   "codemirror_mode": {
    "name": "ipython",
    "version": 3
   },
   "file_extension": ".py",
   "mimetype": "text/x-python",
   "name": "python",
   "nbconvert_exporter": "python",
   "pygments_lexer": "ipython3",
   "version": "3.12.8"
  }
 },
 "nbformat": 4,
 "nbformat_minor": 2
}
