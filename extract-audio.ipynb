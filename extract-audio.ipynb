{
 "cells": [
  {
   "cell_type": "code",
   "execution_count": null,
   "metadata": {},
   "outputs": [],
   "source": [
    "from moviepy.video.io.VideoFileClip import VideoFileClip"
   ]
  },
  {
   "cell_type": "code",
   "execution_count": 23,
   "metadata": {},
   "outputs": [
    {
     "name": "stdout",
     "output_type": "stream",
     "text": [
      "{'video_found': True, 'audio_found': True, 'metadata': {'major_brand': 'isom', 'minor_version': '131072', 'compatible_brands': 'isomiso2mp41', 'creation_time': '2025-02-22T12:39:42.000000Z', 'location': '+52.4222+9.8272/', 'location-eng': '+52.4222+9.8272/', 'com.android.manufacturer': 'Google', 'com.android.model': 'Pixel 5', 'com.android.capture.fps': '30.000000'}, 'inputs': [{'streams': [{'input_number': 0, 'stream_number': 0, 'stream_type': 'data', 'language': 'eng', 'default': True, 'metadata': {'Metadata': '', 'creation_time': '2025-02-22T12:39:42.000000Z', 'handler_name': 'MetaHandle'}}, {'input_number': 0, 'stream_number': 1, 'stream_type': 'audio', 'language': 'eng', 'default': True, 'fps': 48000, 'bitrate': 191, 'metadata': {'Metadata': '', 'creation_time': '2025-02-22T12:39:42.000000Z', 'handler_name': 'SoundHandle', 'vendor_id': '[0][0][0][0]'}}, {'input_number': 0, 'stream_number': 2, 'stream_type': 'video', 'language': 'eng', 'default': True, 'size': [3840, 2160], 'bitrate': 48013, 'fps': 29.97002997002997, 'codec_name': 'h264', 'profile': '(High)', 'metadata': {'Metadata': '', 'creation_time': '2025-02-22T12:39:42.000000Z', 'handler_name': 'VideoHandle', 'vendor_id': '[0][0][0][0]'}}], 'input_number': 0}], 'duration': 98.35, 'bitrate': 48231, 'start': 0.0, 'default_data_input_number': 0, 'default_data_stream_number': 0, 'default_audio_input_number': 0, 'default_audio_stream_number': 1, 'audio_fps': 48000, 'audio_bitrate': 191, 'default_video_input_number': 0, 'default_video_stream_number': 2, 'video_codec_name': 'h264', 'video_profile': '(High)', 'video_size': [3840, 2160], 'video_bitrate': 48013, 'video_fps': 29.97002997002997, 'video_duration': 98.35, 'video_n_frames': 2947}\n",
      "/Users/bbodensieck/Library/Caches/pypoetry/virtualenvs/team-insight-ctUheOpX-py3.12/lib/python3.12/site-packages/pyAudioAnalysis/../imageio_ffmpeg/binaries/ffmpeg-macos-aarch64-v7.1 -i data/PXL_20250222_123802359.mp4 -loglevel error -f image2pipe -vf scale=3840:2160 -sws_flags bicubic -pix_fmt rgb24 -vcodec rawvideo -\n",
      "MoviePy - Writing audio in output_audio.mp3\n"
     ]
    },
    {
     "name": "stderr",
     "output_type": "stream",
     "text": [
      "                                                                                                "
     ]
    },
    {
     "name": "stdout",
     "output_type": "stream",
     "text": [
      "MoviePy - Done.\n"
     ]
    },
    {
     "name": "stderr",
     "output_type": "stream",
     "text": [
      "\r"
     ]
    }
   ],
   "source": [
    "# Load the video file\n",
    "video = VideoFileClip(\"data/PXL_20250222_123802359.mp4\")\n",
    "\n",
    "# Extract the audio\n",
    "audio = video.audio\n",
    "\n",
    "# Write the audio to a file\n",
    "audio.write_audiofile(\"output_audio.mp3\")"
   ]
  }
 ],
 "metadata": {
  "kernelspec": {
   "display_name": "Python 3 (ipykernel)",
   "language": "python",
   "name": "python3"
  },
  "language_info": {
   "codemirror_mode": {
    "name": "ipython",
    "version": 3
   },
   "file_extension": ".py",
   "mimetype": "text/x-python",
   "name": "python",
   "nbconvert_exporter": "python",
   "pygments_lexer": "ipython3",
   "version": "3.12.8"
  }
 },
 "nbformat": 4,
 "nbformat_minor": 2
}
